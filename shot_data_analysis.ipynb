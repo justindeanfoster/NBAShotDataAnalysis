{
 "cells": [
  {
   "cell_type": "markdown",
   "metadata": {},
   "source": [
    "# Import libraries + dataset"
   ]
  },
  {
   "cell_type": "code",
   "execution_count": null,
   "metadata": {},
   "outputs": [],
   "source": [
    "import pandas as pd\n",
    "import numpy as np\n",
    "# import sklearn as sk\n",
    "from datetime import timedelta\n",
    "# from sklearn import model_selection, tree"
   ]
  },
  {
   "cell_type": "code",
   "execution_count": 13,
   "metadata": {},
   "outputs": [
    {
     "name": "stdout",
     "output_type": "stream",
     "text": [
      "(122502, 21)\n"
     ]
    },
    {
     "data": {
      "text/html": [
       "<div>\n",
       "<style scoped>\n",
       "    .dataframe tbody tr th:only-of-type {\n",
       "        vertical-align: middle;\n",
       "    }\n",
       "\n",
       "    .dataframe tbody tr th {\n",
       "        vertical-align: top;\n",
       "    }\n",
       "\n",
       "    .dataframe thead th {\n",
       "        text-align: right;\n",
       "    }\n",
       "</style>\n",
       "<table border=\"1\" class=\"dataframe\">\n",
       "  <thead>\n",
       "    <tr style=\"text-align: right;\">\n",
       "      <th></th>\n",
       "      <th>GAME_ID</th>\n",
       "      <th>MATCHUP</th>\n",
       "      <th>LOCATION</th>\n",
       "      <th>W</th>\n",
       "      <th>FINAL_MARGIN</th>\n",
       "      <th>SHOT_NUMBER</th>\n",
       "      <th>PERIOD</th>\n",
       "      <th>GAME_CLOCK</th>\n",
       "      <th>SHOT_CLOCK</th>\n",
       "      <th>DRIBBLES</th>\n",
       "      <th>...</th>\n",
       "      <th>SHOT_DIST</th>\n",
       "      <th>PTS_TYPE</th>\n",
       "      <th>SHOT_RESULT</th>\n",
       "      <th>CLOSEST_DEFENDER</th>\n",
       "      <th>CLOSEST_DEFENDER_PLAYER_ID</th>\n",
       "      <th>CLOSE_DEF_DIST</th>\n",
       "      <th>FGM</th>\n",
       "      <th>PTS</th>\n",
       "      <th>player_name</th>\n",
       "      <th>player_id</th>\n",
       "    </tr>\n",
       "  </thead>\n",
       "  <tbody>\n",
       "    <tr>\n",
       "      <th>0</th>\n",
       "      <td>21400899</td>\n",
       "      <td>MAR 04, 2015 - CHA @ BKN</td>\n",
       "      <td>A</td>\n",
       "      <td>W</td>\n",
       "      <td>24</td>\n",
       "      <td>1</td>\n",
       "      <td>1</td>\n",
       "      <td>1:09</td>\n",
       "      <td>10.8</td>\n",
       "      <td>2</td>\n",
       "      <td>...</td>\n",
       "      <td>7.7</td>\n",
       "      <td>2</td>\n",
       "      <td>made</td>\n",
       "      <td>Anderson, Alan</td>\n",
       "      <td>101187</td>\n",
       "      <td>1.3</td>\n",
       "      <td>1</td>\n",
       "      <td>2</td>\n",
       "      <td>brian roberts</td>\n",
       "      <td>203148</td>\n",
       "    </tr>\n",
       "    <tr>\n",
       "      <th>1</th>\n",
       "      <td>21400899</td>\n",
       "      <td>MAR 04, 2015 - CHA @ BKN</td>\n",
       "      <td>A</td>\n",
       "      <td>W</td>\n",
       "      <td>24</td>\n",
       "      <td>2</td>\n",
       "      <td>1</td>\n",
       "      <td>0:14</td>\n",
       "      <td>3.4</td>\n",
       "      <td>0</td>\n",
       "      <td>...</td>\n",
       "      <td>28.2</td>\n",
       "      <td>3</td>\n",
       "      <td>missed</td>\n",
       "      <td>Bogdanovic, Bojan</td>\n",
       "      <td>202711</td>\n",
       "      <td>6.1</td>\n",
       "      <td>0</td>\n",
       "      <td>0</td>\n",
       "      <td>brian roberts</td>\n",
       "      <td>203148</td>\n",
       "    </tr>\n",
       "    <tr>\n",
       "      <th>3</th>\n",
       "      <td>21400899</td>\n",
       "      <td>MAR 04, 2015 - CHA @ BKN</td>\n",
       "      <td>A</td>\n",
       "      <td>W</td>\n",
       "      <td>24</td>\n",
       "      <td>4</td>\n",
       "      <td>2</td>\n",
       "      <td>11:47</td>\n",
       "      <td>10.3</td>\n",
       "      <td>2</td>\n",
       "      <td>...</td>\n",
       "      <td>17.2</td>\n",
       "      <td>2</td>\n",
       "      <td>missed</td>\n",
       "      <td>Brown, Markel</td>\n",
       "      <td>203900</td>\n",
       "      <td>3.4</td>\n",
       "      <td>0</td>\n",
       "      <td>0</td>\n",
       "      <td>brian roberts</td>\n",
       "      <td>203148</td>\n",
       "    </tr>\n",
       "    <tr>\n",
       "      <th>4</th>\n",
       "      <td>21400899</td>\n",
       "      <td>MAR 04, 2015 - CHA @ BKN</td>\n",
       "      <td>A</td>\n",
       "      <td>W</td>\n",
       "      <td>24</td>\n",
       "      <td>5</td>\n",
       "      <td>2</td>\n",
       "      <td>10:34</td>\n",
       "      <td>10.9</td>\n",
       "      <td>2</td>\n",
       "      <td>...</td>\n",
       "      <td>3.7</td>\n",
       "      <td>2</td>\n",
       "      <td>missed</td>\n",
       "      <td>Young, Thaddeus</td>\n",
       "      <td>201152</td>\n",
       "      <td>1.1</td>\n",
       "      <td>0</td>\n",
       "      <td>0</td>\n",
       "      <td>brian roberts</td>\n",
       "      <td>203148</td>\n",
       "    </tr>\n",
       "    <tr>\n",
       "      <th>5</th>\n",
       "      <td>21400899</td>\n",
       "      <td>MAR 04, 2015 - CHA @ BKN</td>\n",
       "      <td>A</td>\n",
       "      <td>W</td>\n",
       "      <td>24</td>\n",
       "      <td>6</td>\n",
       "      <td>2</td>\n",
       "      <td>8:15</td>\n",
       "      <td>9.1</td>\n",
       "      <td>2</td>\n",
       "      <td>...</td>\n",
       "      <td>18.4</td>\n",
       "      <td>2</td>\n",
       "      <td>missed</td>\n",
       "      <td>Williams, Deron</td>\n",
       "      <td>101114</td>\n",
       "      <td>2.6</td>\n",
       "      <td>0</td>\n",
       "      <td>0</td>\n",
       "      <td>brian roberts</td>\n",
       "      <td>203148</td>\n",
       "    </tr>\n",
       "  </tbody>\n",
       "</table>\n",
       "<p>5 rows × 21 columns</p>\n",
       "</div>"
      ],
      "text/plain": [
       "    GAME_ID                   MATCHUP LOCATION  W  FINAL_MARGIN  SHOT_NUMBER  \\\n",
       "0  21400899  MAR 04, 2015 - CHA @ BKN        A  W            24            1   \n",
       "1  21400899  MAR 04, 2015 - CHA @ BKN        A  W            24            2   \n",
       "3  21400899  MAR 04, 2015 - CHA @ BKN        A  W            24            4   \n",
       "4  21400899  MAR 04, 2015 - CHA @ BKN        A  W            24            5   \n",
       "5  21400899  MAR 04, 2015 - CHA @ BKN        A  W            24            6   \n",
       "\n",
       "   PERIOD GAME_CLOCK  SHOT_CLOCK  DRIBBLES  ...  SHOT_DIST  PTS_TYPE  \\\n",
       "0       1       1:09        10.8         2  ...        7.7         2   \n",
       "1       1       0:14         3.4         0  ...       28.2         3   \n",
       "3       2      11:47        10.3         2  ...       17.2         2   \n",
       "4       2      10:34        10.9         2  ...        3.7         2   \n",
       "5       2       8:15         9.1         2  ...       18.4         2   \n",
       "\n",
       "   SHOT_RESULT   CLOSEST_DEFENDER CLOSEST_DEFENDER_PLAYER_ID  CLOSE_DEF_DIST  \\\n",
       "0         made     Anderson, Alan                     101187             1.3   \n",
       "1       missed  Bogdanovic, Bojan                     202711             6.1   \n",
       "3       missed      Brown, Markel                     203900             3.4   \n",
       "4       missed    Young, Thaddeus                     201152             1.1   \n",
       "5       missed    Williams, Deron                     101114             2.6   \n",
       "\n",
       "   FGM  PTS    player_name player_id  \n",
       "0    1    2  brian roberts    203148  \n",
       "1    0    0  brian roberts    203148  \n",
       "3    0    0  brian roberts    203148  \n",
       "4    0    0  brian roberts    203148  \n",
       "5    0    0  brian roberts    203148  \n",
       "\n",
       "[5 rows x 21 columns]"
      ]
     },
     "execution_count": 13,
     "metadata": {},
     "output_type": "execute_result"
    }
   ],
   "source": [
    "filename = 'shot_logs.csv'\n",
    "data = pd.read_csv(filename)\n",
    "data = data.dropna() # SHOT_CLOCK originally has NaNs. I wonder why?\n",
    "print(data.shape)\n",
    "data.head()"
   ]
  },
  {
   "cell_type": "code",
   "execution_count": 14,
   "metadata": {},
   "outputs": [
    {
     "data": {
      "text/html": [
       "<div>\n",
       "<style scoped>\n",
       "    .dataframe tbody tr th:only-of-type {\n",
       "        vertical-align: middle;\n",
       "    }\n",
       "\n",
       "    .dataframe tbody tr th {\n",
       "        vertical-align: top;\n",
       "    }\n",
       "\n",
       "    .dataframe thead th {\n",
       "        text-align: right;\n",
       "    }\n",
       "</style>\n",
       "<table border=\"1\" class=\"dataframe\">\n",
       "  <thead>\n",
       "    <tr style=\"text-align: right;\">\n",
       "      <th></th>\n",
       "      <th>GAME_ID</th>\n",
       "      <th>FINAL_MARGIN</th>\n",
       "      <th>SHOT_NUMBER</th>\n",
       "      <th>PERIOD</th>\n",
       "      <th>SHOT_CLOCK</th>\n",
       "      <th>DRIBBLES</th>\n",
       "      <th>TOUCH_TIME</th>\n",
       "      <th>SHOT_DIST</th>\n",
       "      <th>PTS_TYPE</th>\n",
       "      <th>CLOSEST_DEFENDER_PLAYER_ID</th>\n",
       "      <th>CLOSE_DEF_DIST</th>\n",
       "      <th>FGM</th>\n",
       "      <th>PTS</th>\n",
       "      <th>player_id</th>\n",
       "    </tr>\n",
       "  </thead>\n",
       "  <tbody>\n",
       "    <tr>\n",
       "      <th>count</th>\n",
       "      <td>1.225020e+05</td>\n",
       "      <td>122502.000000</td>\n",
       "      <td>122502.000000</td>\n",
       "      <td>122502.000000</td>\n",
       "      <td>122502.000000</td>\n",
       "      <td>122502.000000</td>\n",
       "      <td>122502.000000</td>\n",
       "      <td>122502.000000</td>\n",
       "      <td>122502.000000</td>\n",
       "      <td>122502.000000</td>\n",
       "      <td>122502.000000</td>\n",
       "      <td>122502.000000</td>\n",
       "      <td>122502.000000</td>\n",
       "      <td>122502.000000</td>\n",
       "    </tr>\n",
       "    <tr>\n",
       "      <th>mean</th>\n",
       "      <td>2.140045e+07</td>\n",
       "      <td>0.252396</td>\n",
       "      <td>6.476164</td>\n",
       "      <td>2.471454</td>\n",
       "      <td>12.453344</td>\n",
       "      <td>1.989233</td>\n",
       "      <td>2.748202</td>\n",
       "      <td>13.443758</td>\n",
       "      <td>2.258363</td>\n",
       "      <td>159120.427977</td>\n",
       "      <td>4.121706</td>\n",
       "      <td>0.456156</td>\n",
       "      <td>1.005469</td>\n",
       "      <td>157334.912965</td>\n",
       "    </tr>\n",
       "    <tr>\n",
       "      <th>std</th>\n",
       "      <td>2.578228e+02</td>\n",
       "      <td>13.311418</td>\n",
       "      <td>4.681245</td>\n",
       "      <td>1.137898</td>\n",
       "      <td>5.763265</td>\n",
       "      <td>3.411188</td>\n",
       "      <td>2.957237</td>\n",
       "      <td>8.777113</td>\n",
       "      <td>0.437736</td>\n",
       "      <td>78689.677900</td>\n",
       "      <td>2.751587</td>\n",
       "      <td>0.498076</td>\n",
       "      <td>1.131129</td>\n",
       "      <td>79304.953702</td>\n",
       "    </tr>\n",
       "    <tr>\n",
       "      <th>min</th>\n",
       "      <td>2.140000e+07</td>\n",
       "      <td>-53.000000</td>\n",
       "      <td>1.000000</td>\n",
       "      <td>1.000000</td>\n",
       "      <td>0.000000</td>\n",
       "      <td>0.000000</td>\n",
       "      <td>-100.500000</td>\n",
       "      <td>0.000000</td>\n",
       "      <td>2.000000</td>\n",
       "      <td>708.000000</td>\n",
       "      <td>0.000000</td>\n",
       "      <td>0.000000</td>\n",
       "      <td>0.000000</td>\n",
       "      <td>708.000000</td>\n",
       "    </tr>\n",
       "    <tr>\n",
       "      <th>25%</th>\n",
       "      <td>2.140023e+07</td>\n",
       "      <td>-8.000000</td>\n",
       "      <td>3.000000</td>\n",
       "      <td>1.000000</td>\n",
       "      <td>8.200000</td>\n",
       "      <td>0.000000</td>\n",
       "      <td>0.900000</td>\n",
       "      <td>4.700000</td>\n",
       "      <td>2.000000</td>\n",
       "      <td>200745.000000</td>\n",
       "      <td>2.300000</td>\n",
       "      <td>0.000000</td>\n",
       "      <td>0.000000</td>\n",
       "      <td>101162.000000</td>\n",
       "    </tr>\n",
       "    <tr>\n",
       "      <th>50%</th>\n",
       "      <td>2.140045e+07</td>\n",
       "      <td>1.000000</td>\n",
       "      <td>5.000000</td>\n",
       "      <td>2.000000</td>\n",
       "      <td>12.300000</td>\n",
       "      <td>1.000000</td>\n",
       "      <td>1.600000</td>\n",
       "      <td>13.400000</td>\n",
       "      <td>2.000000</td>\n",
       "      <td>201949.000000</td>\n",
       "      <td>3.700000</td>\n",
       "      <td>0.000000</td>\n",
       "      <td>0.000000</td>\n",
       "      <td>201939.000000</td>\n",
       "    </tr>\n",
       "    <tr>\n",
       "      <th>75%</th>\n",
       "      <td>2.140067e+07</td>\n",
       "      <td>9.000000</td>\n",
       "      <td>9.000000</td>\n",
       "      <td>3.000000</td>\n",
       "      <td>16.675000</td>\n",
       "      <td>2.000000</td>\n",
       "      <td>3.700000</td>\n",
       "      <td>22.400000</td>\n",
       "      <td>3.000000</td>\n",
       "      <td>203079.000000</td>\n",
       "      <td>5.300000</td>\n",
       "      <td>1.000000</td>\n",
       "      <td>2.000000</td>\n",
       "      <td>202704.000000</td>\n",
       "    </tr>\n",
       "    <tr>\n",
       "      <th>max</th>\n",
       "      <td>2.140091e+07</td>\n",
       "      <td>53.000000</td>\n",
       "      <td>37.000000</td>\n",
       "      <td>7.000000</td>\n",
       "      <td>24.000000</td>\n",
       "      <td>32.000000</td>\n",
       "      <td>24.900000</td>\n",
       "      <td>43.500000</td>\n",
       "      <td>3.000000</td>\n",
       "      <td>530027.000000</td>\n",
       "      <td>53.200000</td>\n",
       "      <td>1.000000</td>\n",
       "      <td>3.000000</td>\n",
       "      <td>204060.000000</td>\n",
       "    </tr>\n",
       "  </tbody>\n",
       "</table>\n",
       "</div>"
      ],
      "text/plain": [
       "            GAME_ID   FINAL_MARGIN    SHOT_NUMBER         PERIOD  \\\n",
       "count  1.225020e+05  122502.000000  122502.000000  122502.000000   \n",
       "mean   2.140045e+07       0.252396       6.476164       2.471454   \n",
       "std    2.578228e+02      13.311418       4.681245       1.137898   \n",
       "min    2.140000e+07     -53.000000       1.000000       1.000000   \n",
       "25%    2.140023e+07      -8.000000       3.000000       1.000000   \n",
       "50%    2.140045e+07       1.000000       5.000000       2.000000   \n",
       "75%    2.140067e+07       9.000000       9.000000       3.000000   \n",
       "max    2.140091e+07      53.000000      37.000000       7.000000   \n",
       "\n",
       "          SHOT_CLOCK       DRIBBLES     TOUCH_TIME      SHOT_DIST  \\\n",
       "count  122502.000000  122502.000000  122502.000000  122502.000000   \n",
       "mean       12.453344       1.989233       2.748202      13.443758   \n",
       "std         5.763265       3.411188       2.957237       8.777113   \n",
       "min         0.000000       0.000000    -100.500000       0.000000   \n",
       "25%         8.200000       0.000000       0.900000       4.700000   \n",
       "50%        12.300000       1.000000       1.600000      13.400000   \n",
       "75%        16.675000       2.000000       3.700000      22.400000   \n",
       "max        24.000000      32.000000      24.900000      43.500000   \n",
       "\n",
       "            PTS_TYPE  CLOSEST_DEFENDER_PLAYER_ID  CLOSE_DEF_DIST  \\\n",
       "count  122502.000000               122502.000000   122502.000000   \n",
       "mean        2.258363               159120.427977        4.121706   \n",
       "std         0.437736                78689.677900        2.751587   \n",
       "min         2.000000                  708.000000        0.000000   \n",
       "25%         2.000000               200745.000000        2.300000   \n",
       "50%         2.000000               201949.000000        3.700000   \n",
       "75%         3.000000               203079.000000        5.300000   \n",
       "max         3.000000               530027.000000       53.200000   \n",
       "\n",
       "                 FGM            PTS      player_id  \n",
       "count  122502.000000  122502.000000  122502.000000  \n",
       "mean        0.456156       1.005469  157334.912965  \n",
       "std         0.498076       1.131129   79304.953702  \n",
       "min         0.000000       0.000000     708.000000  \n",
       "25%         0.000000       0.000000  101162.000000  \n",
       "50%         0.000000       0.000000  201939.000000  \n",
       "75%         1.000000       2.000000  202704.000000  \n",
       "max         1.000000       3.000000  204060.000000  "
      ]
     },
     "execution_count": 14,
     "metadata": {},
     "output_type": "execute_result"
    }
   ],
   "source": [
    "data.describe()"
   ]
  },
  {
   "cell_type": "markdown",
   "metadata": {},
   "source": [
    "# Perform Feature Engineering"
   ]
  },
  {
   "cell_type": "code",
   "execution_count": 15,
   "metadata": {},
   "outputs": [],
   "source": [
    "# from https://stackoverflow.com/questions/50308629/python-pandas-column-convert-minutes-to-second\n",
    "def timeToSeconds(x):\n",
    "    mins, secs = map(float, x.split(':'))\n",
    "    td = timedelta(minutes=mins, seconds=secs)\n",
    "    return td.total_seconds()"
   ]
  },
  {
   "cell_type": "code",
   "execution_count": 16,
   "metadata": {},
   "outputs": [],
   "source": [
    "# begin to separate the data into features and labels\n",
    "labels = data['SHOT_RESULT'].map(dict(made=1, missed=0))"
   ]
  },
  {
   "cell_type": "markdown",
   "metadata": {},
   "source": [
    "### Try out keeping different features by running different cells\n",
    "The model code should be based solely on feature_data to easily test different feature extractions"
   ]
  },
  {
   "cell_type": "code",
   "execution_count": 5,
   "metadata": {},
   "outputs": [],
   "source": [
    "# drop_features = ['SHOT_RESULT', 'MATCHUP', 'GAME_ID', 'CLOSEST_DEFENDER','player_name', 'LOCATION', 'W', 'PTS', 'FGM']\n"
   ]
  },
  {
   "cell_type": "code",
   "execution_count": 6,
   "metadata": {},
   "outputs": [],
   "source": [
    "# There are a lot more features we want to get rid of than use -- let's specify which ones we want to keep\n",
    "# desired_features = ['SHOT_CLOCK', 'DRIBBLES', 'TOUCH_TIME', 'SHOT_DIST', 'PTS_TYPE', 'CLOSE_DEF_DIST', 'LOCATION', 'W']"
   ]
  },
  {
   "cell_type": "markdown",
   "metadata": {},
   "source": [
    "There are 21 features in our dataset, both categorical and numerical. The 'pts', and 'fgm' features are redundant for us, because they are non-zero (in the case of 'pts') and increasing (in the case of 'fgm') for made shots and zero and non-inreasing otherwise, so they essentially describes the 'shot_result' attribute we chose to be our label.\n",
    "\n",
    "Additionally, there are a number of features such as 'player_id', 'player_name', 'closest_defender_player_id', 'closest_defender', 'location', and 'matchup' that seem like they might be valuable (i.e. some defenders are better and the resulting shot likelihood would be lower), but not valuable enough to enhance the accuracy of our classifier.\n",
    "\n",
    "There are also features that describe the context of the game the shot was taken in such as 'game_clock', 'period', 'final_margin', 'W', 'game_id' that are not pertinent to the specific shot we are trying to predict.\n",
    "\n",
    "There is a third class of features that we dropped originally that describe the game a specific shooter is having, such as 'shot_number' and 'FGM' that describe which shot of the game it is for a given player.\n",
    "\n",
    "This left us with six features that describe only the specific situation a shot was taken in:\n",
    "\n",
    "1.    shot_clock: The amount of time remaining in a possession. It figures that if there is only a small amount of time left, a player might rush to get a shot off.\n",
    "\n",
    "2.    touch_time: The amount of time the ball is in our specific shooter's posession. It seems that the longer the ball is in a player's possession, the less likely they are to score because they didn't have a clear shot when they recieved the ball.\n",
    "\n",
    "3.    dribbles: The amount of dribbles the player takes before shooting. Dribbling a lot might mean the player did not have a clear shot when he recieved the ball, resulting in a less likely shot.\n",
    "\n",
    "4.    pts_type: Whether the shot was a 2 or 3 point field goal. It figures that because 3-pointers are taken farther from the basket, they might be harder to score.\n",
    "\n",
    "5.    shot_dist: How far from the basket the shot was taken. The closer a player is to the basket, the easier it is to score.\n",
    "\n",
    "6.    close_def_dist: How far the closest defender is. The closer the nearest defender, the more contested and harder to make a shot becomes.\n",
    "\n"
   ]
  },
  {
   "cell_type": "code",
   "execution_count": 16,
   "metadata": {},
   "outputs": [],
   "source": [
    "# desired_features = ['SHOT_CLOCK', 'DRIBBLES', 'TOUCH_TIME', 'SHOT_DIST', 'PTS_TYPE', 'CLOSE_DEF_DIST']"
   ]
  },
  {
   "cell_type": "code",
   "execution_count": 17,
   "metadata": {},
   "outputs": [],
   "source": [
    "desired_features = ['SHOT_CLOCK', 'TOUCH_TIME', 'SHOT_DIST', 'CLOSE_DEF_DIST']"
   ]
  },
  {
   "cell_type": "code",
   "execution_count": 9,
   "metadata": {},
   "outputs": [],
   "source": [
    "# desired_features = [add desired features here]"
   ]
  },
  {
   "cell_type": "code",
   "execution_count": 18,
   "metadata": {},
   "outputs": [
    {
     "data": {
      "text/html": [
       "<div>\n",
       "<style scoped>\n",
       "    .dataframe tbody tr th:only-of-type {\n",
       "        vertical-align: middle;\n",
       "    }\n",
       "\n",
       "    .dataframe tbody tr th {\n",
       "        vertical-align: top;\n",
       "    }\n",
       "\n",
       "    .dataframe thead th {\n",
       "        text-align: right;\n",
       "    }\n",
       "</style>\n",
       "<table border=\"1\" class=\"dataframe\">\n",
       "  <thead>\n",
       "    <tr style=\"text-align: right;\">\n",
       "      <th></th>\n",
       "      <th>SHOT_CLOCK</th>\n",
       "      <th>TOUCH_TIME</th>\n",
       "      <th>SHOT_DIST</th>\n",
       "      <th>CLOSE_DEF_DIST</th>\n",
       "    </tr>\n",
       "  </thead>\n",
       "  <tbody>\n",
       "    <tr>\n",
       "      <th>0</th>\n",
       "      <td>10.8</td>\n",
       "      <td>1.9</td>\n",
       "      <td>7.7</td>\n",
       "      <td>1.3</td>\n",
       "    </tr>\n",
       "    <tr>\n",
       "      <th>1</th>\n",
       "      <td>3.4</td>\n",
       "      <td>0.8</td>\n",
       "      <td>28.2</td>\n",
       "      <td>6.1</td>\n",
       "    </tr>\n",
       "    <tr>\n",
       "      <th>3</th>\n",
       "      <td>10.3</td>\n",
       "      <td>1.9</td>\n",
       "      <td>17.2</td>\n",
       "      <td>3.4</td>\n",
       "    </tr>\n",
       "    <tr>\n",
       "      <th>4</th>\n",
       "      <td>10.9</td>\n",
       "      <td>2.7</td>\n",
       "      <td>3.7</td>\n",
       "      <td>1.1</td>\n",
       "    </tr>\n",
       "    <tr>\n",
       "      <th>5</th>\n",
       "      <td>9.1</td>\n",
       "      <td>4.4</td>\n",
       "      <td>18.4</td>\n",
       "      <td>2.6</td>\n",
       "    </tr>\n",
       "  </tbody>\n",
       "</table>\n",
       "</div>"
      ],
      "text/plain": [
       "   SHOT_CLOCK  TOUCH_TIME  SHOT_DIST  CLOSE_DEF_DIST\n",
       "0        10.8         1.9        7.7             1.3\n",
       "1         3.4         0.8       28.2             6.1\n",
       "3        10.3         1.9       17.2             3.4\n",
       "4        10.9         2.7        3.7             1.1\n",
       "5         9.1         4.4       18.4             2.6"
      ]
     },
     "execution_count": 18,
     "metadata": {},
     "output_type": "execute_result"
    }
   ],
   "source": [
    "# feature_data = data.drop(drop_features, axis=1)\n",
    "feature_data = data.loc[:, desired_features]\n",
    "\n",
    "# Reads game clock into seconds\n",
    "# feature_data['GAME_CLOCK'] = data['GAME_CLOCK'].apply(timeToSeconds)\n",
    "\n",
    "# One hot encodes any remaining categorical variables (like Location or W)\n",
    "feature_data = pd.get_dummies(feature_data)\n",
    "\n",
    "feature_data.head()"
   ]
  },
  {
   "cell_type": "markdown",
   "metadata": {},
   "source": [
    "# === Models ==="
   ]
  },
  {
   "cell_type": "code",
   "execution_count": 19,
   "metadata": {},
   "outputs": [],
   "source": [
    "import sklearn as sk\n",
    "\n",
    "# Tools\n",
    "from sklearn.model_selection import GridSearchCV\n",
    "from sklearn.model_selection import cross_val_score\n",
    "from sklearn.model_selection import cross_val_predict\n",
    "from sklearn.pipeline import Pipeline\n",
    "\n",
    "# Models\n",
    "from sklearn.tree import DecisionTreeClassifier\n",
    "from sklearn.neighbors import KNeighborsClassifier\n",
    "from sklearn.naive_bayes import GaussianNB\n",
    "from sklearn.svm import SVC\n",
    "from sklearn.neural_network import MLPClassifier\n",
    "from sklearn.ensemble import RandomForestClassifier\n",
    "\n",
    "# Parallelism\n",
    "from sklearn.utils import parallel_backend\n"
   ]
  },
  {
   "cell_type": "markdown",
   "metadata": {},
   "source": [
    "## Decision Tree"
   ]
  },
  {
   "cell_type": "code",
   "execution_count": 30,
   "metadata": {},
   "outputs": [
    {
     "name": "stdout",
     "output_type": "stream",
     "text": [
      "Accuracy on test data using Gini as split criterion is: 0.5394881841557487\n",
      "\n",
      "Accuracy on test data with max tree depth 4 is: 0.6142198277621321\n",
      "\n",
      "Accuracy on test data with max tree minimum sample split 5 is: 0.5432431329333497\n"
     ]
    }
   ],
   "source": [
    "# Essentially a playground for trying different parameters of decision trees\n",
    "# These should probably be run with the cross validation of the cell below tbh, but these are just examples\n",
    "train_features, test_features, train_labels, test_labels = sk.model_selection.train_test_split(feature_data, labels, test_size=0.20)\n",
    "\n",
    "# use gini\n",
    "classifier = DecisionTreeClassifier(criterion='gini')\n",
    "classifier = classifier.fit(train_features, train_labels)\n",
    "predictions = classifier.predict(test_features)\n",
    "print('Accuracy on test data using Gini as split criterion is:', (sk.metrics.accuracy_score(test_labels, predictions)))\n",
    "print()\n",
    "\n",
    "# max depth\n",
    "depth=4\n",
    "classifier = DecisionTreeClassifier(criterion='entropy', max_depth=depth)\n",
    "classifier = classifier.fit(train_features, train_labels)\n",
    "predictions = classifier.predict(test_features)\n",
    "print('Accuracy on test data with max tree depth', depth, 'is:', (sk.metrics.accuracy_score(test_labels, predictions)))\n",
    "print()\n",
    "\n",
    "# minimum samples in a split set to 5\n",
    "classifier = DecisionTreeClassifier(criterion='entropy', min_samples_split=5)\n",
    "classifier = classifier.fit(train_features, train_labels)\n",
    "predictions = classifier.predict(test_features)\n",
    "print('Accuracy on test data with max tree minimum sample split 5 is:', (sk.metrics.accuracy_score(test_labels, predictions)))"
   ]
  },
  {
   "cell_type": "code",
   "execution_count": 40,
   "metadata": {},
   "outputs": [
    {
     "name": "stdout",
     "output_type": "stream",
     "text": [
      "Average Accuracy: 61.137773135457195\n"
     ]
    }
   ],
   "source": [
    "# Run cross validation with chosen hyperparameters\n",
    "\n",
    "classifier = DecisionTreeClassifier(criterion='entropy', max_depth=10)\n",
    "with parallel_backend('loky'):\n",
    "    scores = cross_val_score(classifier, feature_data, labels, cv=5)\n",
    "                                           \n",
    "print(\"Average Accuracy:\", scores.mean()*100)"
   ]
  },
  {
   "cell_type": "code",
   "execution_count": 14,
   "metadata": {},
   "outputs": [
    {
     "name": "stdout",
     "output_type": "stream",
     "text": [
      "{'max_depth': 5, 'max_features': 6, 'min_samples_leaf': 10}\n",
      "Average Accuracy: 61.434910228570416\n"
     ]
    }
   ],
   "source": [
    "# Inner loop of nested cross validation - determine what are likely the best hyperparams\n",
    "\n",
    "classifier = DecisionTreeClassifier()\n",
    "params = {\"max_depth\": [5, 10, 15, 20],\n",
    "          \"min_samples_leaf\": [5, 10, 15, 20],\n",
    "          \"max_features\": [3, 4, 5, 6]}\n",
    "\n",
    "grid_search = GridSearchCV(classifier, params, cv=5, scoring='accuracy')\n",
    "with parallel_backend('loky'):\n",
    "    grid_search.fit(feature_data, labels)\n",
    "\n",
    "print(grid_search.best_params_)\n",
    "print(\"Average Accuracy:\", grid_search.best_score_*100)"
   ]
  },
  {
   "cell_type": "code",
   "execution_count": 15,
   "metadata": {},
   "outputs": [
    {
     "name": "stdout",
     "output_type": "stream",
     "text": [
      "{'max_depth': 5, 'max_features': 6, 'min_samples_leaf': 10}\n",
      "Average Accuracy: 61.446333110666515\n"
     ]
    }
   ],
   "source": [
    "# The Real Deal: Nested Cross Validation\n",
    "\n",
    "with parallel_backend('loky'):\n",
    "    scores = cross_val_score(grid_search, feature_data, labels, cv=10) \n",
    "\n",
    "print(grid_search.best_params_)\n",
    "print(\"Average Accuracy:\", scores.mean()*100)"
   ]
  },
  {
   "cell_type": "markdown",
   "metadata": {},
   "source": [
    "## K Nearest Neighbors\n",
    "\n",
    "Here we will explore the K nearest neighbors technique. This method is used to determine association based on the K nearest neighbors surrounding a data point. Based on this association, the prediction can be made based on classification of its neighbors."
   ]
  },
  {
   "cell_type": "code",
   "execution_count": 17,
   "metadata": {},
   "outputs": [
    {
     "name": "stdout",
     "output_type": "stream",
     "text": [
      "Accuracies:  57.211308026577846\n"
     ]
    }
   ],
   "source": [
    "scaler = sk.preprocessing.StandardScaler()\n",
    "PCA = sk.decomposition.PCA()\n",
    "knn = sk.neighbors.KNeighborsClassifier(n_neighbors=100)\n",
    "pipe = Pipeline([('scaler' , scaler ), ('pca', PCA), ('knn', knn) ] )\n",
    "\n",
    "with parallel_backend('loky'):\n",
    "    accuracies = cross_val_score( pipe, feature_data, labels, cv=5)\n",
    "    \n",
    "print(\"Accuracies: \", accuracies.mean()*100)"
   ]
  },
  {
   "cell_type": "code",
   "execution_count": 21,
   "metadata": {},
   "outputs": [
    {
     "name": "stdout",
     "output_type": "stream",
     "text": [
      "duration = 7.195174217224121\n",
      "{'knn__n_neighbors': 6}\n",
      "0.5802353943071046\n"
     ]
    }
   ],
   "source": [
    "param_grid = {\n",
    "    #'pca__n_components': list(range(5, 10)),\n",
    "    'knn__n_neighbors': list(range(80, 120, 5))\n",
    "}\n",
    "gs = GridSearchCV(pipe, param_grid, cv=5, scoring='accuracy')\n",
    "\n",
    "with parallel_backend('loky'):\n",
    "    gs.fit(feature_data, labels)\n",
    "\n",
    "print(gs.best_params_)\n",
    "print(gs.best_score_)"
   ]
  },
  {
   "cell_type": "code",
   "execution_count": 25,
   "metadata": {},
   "outputs": [
    {
     "name": "stdout",
     "output_type": "stream",
     "text": [
      "Accuracies:  58.028437356576035\n"
     ]
    }
   ],
   "source": [
    "with parallel_backend('loky'):\n",
    "    accuracies = cross_val_score( gs, feature_data, labels, cv=5)\n",
    "print(\"Accuracies: \", accuracies.mean()*100)"
   ]
  },
  {
   "cell_type": "markdown",
   "metadata": {},
   "source": [
    "## Naive Bayes"
   ]
  },
  {
   "cell_type": "code",
   "execution_count": 26,
   "metadata": {},
   "outputs": [
    {
     "name": "stdout",
     "output_type": "stream",
     "text": [
      "duration = 0.3098483085632324\n",
      "Average Accuracy: 57.91334005220732\n"
     ]
    }
   ],
   "source": [
    "# From the HW\n",
    "classifier = GaussianNB()\n",
    "\n",
    "# Cross validation accuracy\n",
    "scores = cross_val_score(classifier, feature_data, labels, cv=10) \n",
    "print(\"Average Accuracy:\", scores.mean()*100)"
   ]
  },
  {
   "cell_type": "code",
   "execution_count": 28,
   "metadata": {},
   "outputs": [
    {
     "name": "stdout",
     "output_type": "stream",
     "text": [
      "duration = 0.3035438060760498\n",
      "              precision    recall  f1-score   support\n",
      "\n",
      "           0       0.62      0.59      0.60     66622\n",
      "           1       0.54      0.57      0.55     55880\n",
      "\n",
      "    accuracy                           0.58    122502\n",
      "   macro avg       0.58      0.58      0.58    122502\n",
      "weighted avg       0.58      0.58      0.58    122502\n",
      "\n"
     ]
    }
   ],
   "source": [
    "# Cross validation accuracy + other metrics\n",
    "predictions = cross_val_predict(classifier, feature_data, labels, cv=10)\n",
    "\n",
    "matrix = sk.metrics.confusion_matrix(labels, predictions)\n",
    "report = sk.metrics.classification_report(labels, predictions)\n",
    "print(report)"
   ]
  },
  {
   "cell_type": "markdown",
   "metadata": {},
   "source": [
    "## SVM"
   ]
  },
  {
   "cell_type": "code",
   "execution_count": null,
   "metadata": {},
   "outputs": [],
   "source": [
    "scaler = sk.preprocessing.StandardScaler()\n",
    "pca = sk.decomposition.PCA()\n",
    "svc = SVC()\n",
    "pipeline = Pipeline(steps=[('scaler', scaler), ('PCA', pca), ('SVC', svc)])\n",
    "\n",
    "param_grid = {\n",
    "    'PCA__n_components': list(range(2, 6)),\n",
    "    'SVC__kernel': ['linear', 'rbf', 'poly']\n",
    "}\n",
    "\n",
    "grid_search = GridSearchCV(pipeline, param_grid, cv=5)\n",
    "\n",
    "with parallel_backend('loky'):\n",
    "    predictions = cross_val_predict(grid_search, feature_data, labels, cv=10)\n",
    "\n",
    "avg_accuracy = sk.metrics.accuracy_score(labels, predictions)\n",
    "print(\"Average Accuracy:\", avg_accuracy*100)\n",
    "report = sk.metrics.classification_report(labels, predictions)\n",
    "print(report)"
   ]
  },
  {
   "cell_type": "markdown",
   "metadata": {},
   "source": [
    "## Neural Network"
   ]
  },
  {
   "cell_type": "markdown",
   "metadata": {},
   "source": [
    "With and without PCA seem to get the same results"
   ]
  },
  {
   "cell_type": "code",
   "execution_count": 9,
   "metadata": {},
   "outputs": [
    {
     "name": "stdout",
     "output_type": "stream",
     "text": [
      "{'NN__activation': 'relu', 'NN__hidden_layer_sizes': (64,), 'PCA__n_components': 4}\n",
      "Best Accuracy: 0.6165041613461841\n"
     ]
    }
   ],
   "source": [
    "# With PCA\n",
    "scaler = sk.preprocessing.StandardScaler()\n",
    "pca = sk.decomposition.PCA()\n",
    "nn = MLPClassifier()\n",
    "pipeline = Pipeline(steps=[('scaler', scaler), ('PCA', pca), ('NN', nn)])\n",
    "\n",
    "num_features = feature_data.shape[1]\n",
    "param_grid = {\n",
    "    'PCA__n_components': list(range(2, num_features + 1)),\n",
    "    'NN__hidden_layer_sizes': [(16, ), (32, ), (64, ), (128,)],\n",
    "    'NN__activation': ['logistic', 'tanh', 'relu']\n",
    "}\n",
    "\n",
    "grid_search = GridSearchCV(pipeline, param_grid, cv=5)\n",
    "with parallel_backend('loky'):\n",
    "    grid_search.fit(feature_data, labels)\n",
    "\n",
    "print(grid_search.best_params_)\n",
    "print(\"Best Accuracy:\", grid_search.best_score_)"
   ]
  },
  {
   "cell_type": "code",
   "execution_count": 22,
   "metadata": {},
   "outputs": [
    {
     "name": "stdout",
     "output_type": "stream",
     "text": [
      "{'NN__activation': 'relu', 'NN__hidden_layer_sizes': (128,)}\n",
      "Best Accuracy: 0.6170674149909748\n"
     ]
    }
   ],
   "source": [
    "# Without PCA\n",
    "scaler = sk.preprocessing.StandardScaler()\n",
    "nn = MLPClassifier()\n",
    "pipeline = Pipeline(steps=[('scaler', scaler), ('NN', nn)])\n",
    "\n",
    "param_grid = {\n",
    "    'NN__hidden_layer_sizes': [(16, ), (32, ), (64, ), (128,)],\n",
    "    'NN__activation': ['logistic', 'tanh', 'relu']\n",
    "}\n",
    "\n",
    "grid_search = GridSearchCV(pipeline, param_grid, cv=5)\n",
    "with parallel_backend('loky'):\n",
    "    grid_search.fit(feature_data, labels)\n",
    "\n",
    "print(grid_search.best_params_)\n",
    "print(\"Best Accuracy:\", grid_search.best_score_)"
   ]
  },
  {
   "cell_type": "code",
   "execution_count": 11,
   "metadata": {},
   "outputs": [
    {
     "name": "stdout",
     "output_type": "stream",
     "text": [
      "Average Accuracy: 61.735318607043155\n",
      "              precision    recall  f1-score   support\n",
      "\n",
      "           0       0.61      0.83      0.70     66622\n",
      "           1       0.64      0.36      0.46     55880\n",
      "\n",
      "    accuracy                           0.62    122502\n",
      "   macro avg       0.63      0.60      0.58    122502\n",
      "weighted avg       0.62      0.62      0.59    122502\n",
      "\n"
     ]
    }
   ],
   "source": [
    "# Performed without PCA\n",
    "with parallel_backend('loky'):\n",
    "    predictions = cross_val_predict(grid_search, feature_data, labels, cv=5)\n",
    "\n",
    "avg_accuracy = sk.metrics.accuracy_score(labels, predictions)\n",
    "print(\"Average Accuracy:\", avg_accuracy*100)\n",
    "report = sk.metrics.classification_report(labels, predictions)\n",
    "print(report)"
   ]
  },
  {
   "cell_type": "markdown",
   "metadata": {},
   "source": [
    "## Random Forest"
   ]
  },
  {
   "cell_type": "code",
   "execution_count": null,
   "metadata": {},
   "outputs": [],
   "source": [
    "classifier = RandomForestClassifier()\n",
    "\n",
    "# Find the best hyperparamters for random forest\n",
    "param_grid = {\n",
    "    'criterion' : ['gini', 'entropy'],\n",
    "    'n_estimators' : [50, 100, 150, 200, 250, 300],\n",
    "    'min_samples_split' : [2, 3, 4, 5, 6],\n",
    "    'bootstrap' : [True, False]\n",
    "}\n",
    "\n",
    "# Train and test data\n",
    "grid_search = GridSearchCV(classifier, param_grid, cv=5, scoring='accuracy')\n",
    "\n",
    "with parallel_backend('loky'):\n",
    "    grid_search.fit(feature_data, labels)\n",
    "    \n",
    "# print best parameters\n",
    "print(grid_search.best_params_)\n",
    "\n",
    "with parallel_backend('loky'):\n",
    "    predictions = cross_val_predict(grid_search, feature_data, labels, cv=5)\n",
    "\n",
    "# print results\n",
    "avg_accuracy = sk.metrics.accuracy_score(labels, predictions)\n",
    "print(\"Average Accuracy:\", avg_accuracy*100)\n",
    "report = sk.metrics.classification_report(labels, predictions)\n",
    "print(report)"
   ]
  }
 ],
 "metadata": {
  "interpreter": {
   "hash": "102d4fce1327120b51b2a6e13888fc695aa592a82a8d211fe3d49cced840841d"
  },
  "kernelspec": {
   "display_name": "Python 3",
   "language": "python",
   "name": "python3"
  },
  "language_info": {
   "codemirror_mode": {
    "name": "ipython",
    "version": 3
   },
   "file_extension": ".py",
   "mimetype": "text/x-python",
   "name": "python",
   "nbconvert_exporter": "python",
   "pygments_lexer": "ipython3",
   "version": "3.8.13"
  }
 },
 "nbformat": 4,
 "nbformat_minor": 2
}
