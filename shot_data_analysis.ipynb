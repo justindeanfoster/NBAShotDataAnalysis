{
 "cells": [
  {
   "cell_type": "markdown",
   "metadata": {},
   "source": [
    "# Introduction to Dataset and Problem"
   ]
  },
  {
   "cell_type": "markdown",
   "metadata": {},
   "source": [
    "Our dataset describes characteristics of basketball shots taken in NBA games in the 2014-2015 season. The data was scraped from the NBA rest API, and each entry in the dataset describes a single shot taken in a game. \n",
    "\n",
    "We are attempting to classify each shot as a made or missed shot using the attributes in the dataset. The data contains an attribute ('shot_result') we will be using as our label.\n",
    "\n",
    "An accurate model would be able to tell us whether a shot with certain characteristics is likely to be made. A model like this would help inform NBA coaching staffs of the type of circumstances that generate likely shots. For instance, if a coach is wondering if a shot taken 10 feet from the basket with a defender 2 feet away is likely to be scored, they could use our model. Additionally, while we did not use the 'player_name' attribute in our modeling, it could be used by analytics teams to determine how their players fare in certain shooting situations. If a player makes most of his open 3 point shots but struggles to score layups at the basket, this could provide valuable information to NBA teams."
   ]
  },
  {
   "cell_type": "markdown",
   "metadata": {},
   "source": [
    "# Import libraries + dataset"
   ]
  },
  {
   "cell_type": "code",
   "execution_count": 2,
   "metadata": {},
   "outputs": [],
   "source": [
    "import pandas as pd\n",
    "import numpy as np\n",
    "# import sklearn as sk\n",
    "from datetime import timedelta\n",
    "# from sklearn import model_selection, tree"
   ]
  },
  {
   "cell_type": "code",
   "execution_count": 53,
   "metadata": {
    "scrolled": true
   },
   "outputs": [
    {
     "name": "stdout",
     "output_type": "stream",
     "text": [
      "(122502, 21)\n"
     ]
    },
    {
     "data": {
      "text/html": [
       "<div>\n",
       "<style scoped>\n",
       "    .dataframe tbody tr th:only-of-type {\n",
       "        vertical-align: middle;\n",
       "    }\n",
       "\n",
       "    .dataframe tbody tr th {\n",
       "        vertical-align: top;\n",
       "    }\n",
       "\n",
       "    .dataframe thead th {\n",
       "        text-align: right;\n",
       "    }\n",
       "</style>\n",
       "<table border=\"1\" class=\"dataframe\">\n",
       "  <thead>\n",
       "    <tr style=\"text-align: right;\">\n",
       "      <th></th>\n",
       "      <th>GAME_ID</th>\n",
       "      <th>MATCHUP</th>\n",
       "      <th>LOCATION</th>\n",
       "      <th>W</th>\n",
       "      <th>FINAL_MARGIN</th>\n",
       "      <th>SHOT_NUMBER</th>\n",
       "      <th>PERIOD</th>\n",
       "      <th>GAME_CLOCK</th>\n",
       "      <th>SHOT_CLOCK</th>\n",
       "      <th>DRIBBLES</th>\n",
       "      <th>...</th>\n",
       "      <th>SHOT_DIST</th>\n",
       "      <th>PTS_TYPE</th>\n",
       "      <th>SHOT_RESULT</th>\n",
       "      <th>CLOSEST_DEFENDER</th>\n",
       "      <th>CLOSEST_DEFENDER_PLAYER_ID</th>\n",
       "      <th>CLOSE_DEF_DIST</th>\n",
       "      <th>FGM</th>\n",
       "      <th>PTS</th>\n",
       "      <th>player_name</th>\n",
       "      <th>player_id</th>\n",
       "    </tr>\n",
       "  </thead>\n",
       "  <tbody>\n",
       "    <tr>\n",
       "      <th>0</th>\n",
       "      <td>21400899</td>\n",
       "      <td>MAR 04, 2015 - CHA @ BKN</td>\n",
       "      <td>A</td>\n",
       "      <td>W</td>\n",
       "      <td>24</td>\n",
       "      <td>1</td>\n",
       "      <td>1</td>\n",
       "      <td>1:09</td>\n",
       "      <td>10.8</td>\n",
       "      <td>2</td>\n",
       "      <td>...</td>\n",
       "      <td>7.7</td>\n",
       "      <td>2</td>\n",
       "      <td>made</td>\n",
       "      <td>Anderson, Alan</td>\n",
       "      <td>101187</td>\n",
       "      <td>1.3</td>\n",
       "      <td>1</td>\n",
       "      <td>2</td>\n",
       "      <td>brian roberts</td>\n",
       "      <td>203148</td>\n",
       "    </tr>\n",
       "    <tr>\n",
       "      <th>1</th>\n",
       "      <td>21400899</td>\n",
       "      <td>MAR 04, 2015 - CHA @ BKN</td>\n",
       "      <td>A</td>\n",
       "      <td>W</td>\n",
       "      <td>24</td>\n",
       "      <td>2</td>\n",
       "      <td>1</td>\n",
       "      <td>0:14</td>\n",
       "      <td>3.4</td>\n",
       "      <td>0</td>\n",
       "      <td>...</td>\n",
       "      <td>28.2</td>\n",
       "      <td>3</td>\n",
       "      <td>missed</td>\n",
       "      <td>Bogdanovic, Bojan</td>\n",
       "      <td>202711</td>\n",
       "      <td>6.1</td>\n",
       "      <td>0</td>\n",
       "      <td>0</td>\n",
       "      <td>brian roberts</td>\n",
       "      <td>203148</td>\n",
       "    </tr>\n",
       "    <tr>\n",
       "      <th>3</th>\n",
       "      <td>21400899</td>\n",
       "      <td>MAR 04, 2015 - CHA @ BKN</td>\n",
       "      <td>A</td>\n",
       "      <td>W</td>\n",
       "      <td>24</td>\n",
       "      <td>4</td>\n",
       "      <td>2</td>\n",
       "      <td>11:47</td>\n",
       "      <td>10.3</td>\n",
       "      <td>2</td>\n",
       "      <td>...</td>\n",
       "      <td>17.2</td>\n",
       "      <td>2</td>\n",
       "      <td>missed</td>\n",
       "      <td>Brown, Markel</td>\n",
       "      <td>203900</td>\n",
       "      <td>3.4</td>\n",
       "      <td>0</td>\n",
       "      <td>0</td>\n",
       "      <td>brian roberts</td>\n",
       "      <td>203148</td>\n",
       "    </tr>\n",
       "    <tr>\n",
       "      <th>4</th>\n",
       "      <td>21400899</td>\n",
       "      <td>MAR 04, 2015 - CHA @ BKN</td>\n",
       "      <td>A</td>\n",
       "      <td>W</td>\n",
       "      <td>24</td>\n",
       "      <td>5</td>\n",
       "      <td>2</td>\n",
       "      <td>10:34</td>\n",
       "      <td>10.9</td>\n",
       "      <td>2</td>\n",
       "      <td>...</td>\n",
       "      <td>3.7</td>\n",
       "      <td>2</td>\n",
       "      <td>missed</td>\n",
       "      <td>Young, Thaddeus</td>\n",
       "      <td>201152</td>\n",
       "      <td>1.1</td>\n",
       "      <td>0</td>\n",
       "      <td>0</td>\n",
       "      <td>brian roberts</td>\n",
       "      <td>203148</td>\n",
       "    </tr>\n",
       "    <tr>\n",
       "      <th>5</th>\n",
       "      <td>21400899</td>\n",
       "      <td>MAR 04, 2015 - CHA @ BKN</td>\n",
       "      <td>A</td>\n",
       "      <td>W</td>\n",
       "      <td>24</td>\n",
       "      <td>6</td>\n",
       "      <td>2</td>\n",
       "      <td>8:15</td>\n",
       "      <td>9.1</td>\n",
       "      <td>2</td>\n",
       "      <td>...</td>\n",
       "      <td>18.4</td>\n",
       "      <td>2</td>\n",
       "      <td>missed</td>\n",
       "      <td>Williams, Deron</td>\n",
       "      <td>101114</td>\n",
       "      <td>2.6</td>\n",
       "      <td>0</td>\n",
       "      <td>0</td>\n",
       "      <td>brian roberts</td>\n",
       "      <td>203148</td>\n",
       "    </tr>\n",
       "  </tbody>\n",
       "</table>\n",
       "<p>5 rows × 21 columns</p>\n",
       "</div>"
      ],
      "text/plain": [
       "    GAME_ID                   MATCHUP LOCATION  W  FINAL_MARGIN  SHOT_NUMBER  \\\n",
       "0  21400899  MAR 04, 2015 - CHA @ BKN        A  W            24            1   \n",
       "1  21400899  MAR 04, 2015 - CHA @ BKN        A  W            24            2   \n",
       "3  21400899  MAR 04, 2015 - CHA @ BKN        A  W            24            4   \n",
       "4  21400899  MAR 04, 2015 - CHA @ BKN        A  W            24            5   \n",
       "5  21400899  MAR 04, 2015 - CHA @ BKN        A  W            24            6   \n",
       "\n",
       "   PERIOD GAME_CLOCK  SHOT_CLOCK  DRIBBLES  ...  SHOT_DIST  PTS_TYPE  \\\n",
       "0       1       1:09        10.8         2  ...        7.7         2   \n",
       "1       1       0:14         3.4         0  ...       28.2         3   \n",
       "3       2      11:47        10.3         2  ...       17.2         2   \n",
       "4       2      10:34        10.9         2  ...        3.7         2   \n",
       "5       2       8:15         9.1         2  ...       18.4         2   \n",
       "\n",
       "   SHOT_RESULT   CLOSEST_DEFENDER CLOSEST_DEFENDER_PLAYER_ID  CLOSE_DEF_DIST  \\\n",
       "0         made     Anderson, Alan                     101187             1.3   \n",
       "1       missed  Bogdanovic, Bojan                     202711             6.1   \n",
       "3       missed      Brown, Markel                     203900             3.4   \n",
       "4       missed    Young, Thaddeus                     201152             1.1   \n",
       "5       missed    Williams, Deron                     101114             2.6   \n",
       "\n",
       "   FGM  PTS    player_name player_id  \n",
       "0    1    2  brian roberts    203148  \n",
       "1    0    0  brian roberts    203148  \n",
       "3    0    0  brian roberts    203148  \n",
       "4    0    0  brian roberts    203148  \n",
       "5    0    0  brian roberts    203148  \n",
       "\n",
       "[5 rows x 21 columns]"
      ]
     },
     "execution_count": 53,
     "metadata": {},
     "output_type": "execute_result"
    }
   ],
   "source": [
    "filename = 'shot_logs.csv'\n",
    "data = pd.read_csv(filename)\n",
    "data = data.dropna() # SHOT_CLOCK originally has NaNs. I wonder why?\n",
    "print(data.shape)\n",
    "\n",
    "# Get rid of negative 'TOUCH_TIME' values\n",
    "data = data.drop(data.index[data['TOUCH_TIME'] < 0])\n",
    "\n",
    "data.head()"
   ]
  },
  {
   "cell_type": "code",
   "execution_count": 37,
   "metadata": {
    "scrolled": false
   },
   "outputs": [
    {
     "data": {
      "text/html": [
       "<div>\n",
       "<style scoped>\n",
       "    .dataframe tbody tr th:only-of-type {\n",
       "        vertical-align: middle;\n",
       "    }\n",
       "\n",
       "    .dataframe tbody tr th {\n",
       "        vertical-align: top;\n",
       "    }\n",
       "\n",
       "    .dataframe thead th {\n",
       "        text-align: right;\n",
       "    }\n",
       "</style>\n",
       "<table border=\"1\" class=\"dataframe\">\n",
       "  <thead>\n",
       "    <tr style=\"text-align: right;\">\n",
       "      <th></th>\n",
       "      <th>GAME_ID</th>\n",
       "      <th>FINAL_MARGIN</th>\n",
       "      <th>SHOT_NUMBER</th>\n",
       "      <th>PERIOD</th>\n",
       "      <th>SHOT_CLOCK</th>\n",
       "      <th>DRIBBLES</th>\n",
       "      <th>TOUCH_TIME</th>\n",
       "      <th>SHOT_DIST</th>\n",
       "      <th>PTS_TYPE</th>\n",
       "      <th>CLOSEST_DEFENDER_PLAYER_ID</th>\n",
       "      <th>CLOSE_DEF_DIST</th>\n",
       "      <th>FGM</th>\n",
       "      <th>PTS</th>\n",
       "      <th>player_id</th>\n",
       "    </tr>\n",
       "  </thead>\n",
       "  <tbody>\n",
       "    <tr>\n",
       "      <th>count</th>\n",
       "      <td>1.222030e+05</td>\n",
       "      <td>122203.000000</td>\n",
       "      <td>122203.000000</td>\n",
       "      <td>122203.000000</td>\n",
       "      <td>122203.000000</td>\n",
       "      <td>122203.000000</td>\n",
       "      <td>122203.000000</td>\n",
       "      <td>122203.000000</td>\n",
       "      <td>122203.000000</td>\n",
       "      <td>122203.000000</td>\n",
       "      <td>122203.000000</td>\n",
       "      <td>122203.000000</td>\n",
       "      <td>122203.000000</td>\n",
       "      <td>122203.000000</td>\n",
       "    </tr>\n",
       "    <tr>\n",
       "      <th>mean</th>\n",
       "      <td>2.140045e+07</td>\n",
       "      <td>0.253603</td>\n",
       "      <td>6.475717</td>\n",
       "      <td>2.471641</td>\n",
       "      <td>12.450301</td>\n",
       "      <td>1.994084</td>\n",
       "      <td>2.759785</td>\n",
       "      <td>13.449139</td>\n",
       "      <td>2.258652</td>\n",
       "      <td>159126.039713</td>\n",
       "      <td>4.122839</td>\n",
       "      <td>0.456495</td>\n",
       "      <td>1.006260</td>\n",
       "      <td>157321.372192</td>\n",
       "    </tr>\n",
       "    <tr>\n",
       "      <th>std</th>\n",
       "      <td>2.578359e+02</td>\n",
       "      <td>13.312980</td>\n",
       "      <td>4.681851</td>\n",
       "      <td>1.137948</td>\n",
       "      <td>5.756509</td>\n",
       "      <td>3.413942</td>\n",
       "      <td>2.935379</td>\n",
       "      <td>8.776124</td>\n",
       "      <td>0.437896</td>\n",
       "      <td>78685.768017</td>\n",
       "      <td>2.751535</td>\n",
       "      <td>0.498106</td>\n",
       "      <td>1.131276</td>\n",
       "      <td>79314.901366</td>\n",
       "    </tr>\n",
       "    <tr>\n",
       "      <th>min</th>\n",
       "      <td>2.140000e+07</td>\n",
       "      <td>-53.000000</td>\n",
       "      <td>1.000000</td>\n",
       "      <td>1.000000</td>\n",
       "      <td>0.000000</td>\n",
       "      <td>0.000000</td>\n",
       "      <td>0.000000</td>\n",
       "      <td>0.000000</td>\n",
       "      <td>2.000000</td>\n",
       "      <td>708.000000</td>\n",
       "      <td>0.000000</td>\n",
       "      <td>0.000000</td>\n",
       "      <td>0.000000</td>\n",
       "      <td>708.000000</td>\n",
       "    </tr>\n",
       "    <tr>\n",
       "      <th>25%</th>\n",
       "      <td>2.140023e+07</td>\n",
       "      <td>-8.000000</td>\n",
       "      <td>3.000000</td>\n",
       "      <td>1.000000</td>\n",
       "      <td>8.200000</td>\n",
       "      <td>0.000000</td>\n",
       "      <td>0.900000</td>\n",
       "      <td>4.700000</td>\n",
       "      <td>2.000000</td>\n",
       "      <td>200745.000000</td>\n",
       "      <td>2.300000</td>\n",
       "      <td>0.000000</td>\n",
       "      <td>0.000000</td>\n",
       "      <td>101162.000000</td>\n",
       "    </tr>\n",
       "    <tr>\n",
       "      <th>50%</th>\n",
       "      <td>2.140045e+07</td>\n",
       "      <td>1.000000</td>\n",
       "      <td>5.000000</td>\n",
       "      <td>2.000000</td>\n",
       "      <td>12.300000</td>\n",
       "      <td>1.000000</td>\n",
       "      <td>1.600000</td>\n",
       "      <td>13.400000</td>\n",
       "      <td>2.000000</td>\n",
       "      <td>201949.000000</td>\n",
       "      <td>3.700000</td>\n",
       "      <td>0.000000</td>\n",
       "      <td>0.000000</td>\n",
       "      <td>201939.000000</td>\n",
       "    </tr>\n",
       "    <tr>\n",
       "      <th>75%</th>\n",
       "      <td>2.140067e+07</td>\n",
       "      <td>9.000000</td>\n",
       "      <td>9.000000</td>\n",
       "      <td>3.000000</td>\n",
       "      <td>16.600000</td>\n",
       "      <td>2.000000</td>\n",
       "      <td>3.700000</td>\n",
       "      <td>22.400000</td>\n",
       "      <td>3.000000</td>\n",
       "      <td>203079.000000</td>\n",
       "      <td>5.300000</td>\n",
       "      <td>1.000000</td>\n",
       "      <td>2.000000</td>\n",
       "      <td>202704.000000</td>\n",
       "    </tr>\n",
       "    <tr>\n",
       "      <th>max</th>\n",
       "      <td>2.140091e+07</td>\n",
       "      <td>53.000000</td>\n",
       "      <td>37.000000</td>\n",
       "      <td>7.000000</td>\n",
       "      <td>24.000000</td>\n",
       "      <td>32.000000</td>\n",
       "      <td>24.900000</td>\n",
       "      <td>43.500000</td>\n",
       "      <td>3.000000</td>\n",
       "      <td>530027.000000</td>\n",
       "      <td>53.200000</td>\n",
       "      <td>1.000000</td>\n",
       "      <td>3.000000</td>\n",
       "      <td>204060.000000</td>\n",
       "    </tr>\n",
       "  </tbody>\n",
       "</table>\n",
       "</div>"
      ],
      "text/plain": [
       "            GAME_ID   FINAL_MARGIN    SHOT_NUMBER         PERIOD  \\\n",
       "count  1.222030e+05  122203.000000  122203.000000  122203.000000   \n",
       "mean   2.140045e+07       0.253603       6.475717       2.471641   \n",
       "std    2.578359e+02      13.312980       4.681851       1.137948   \n",
       "min    2.140000e+07     -53.000000       1.000000       1.000000   \n",
       "25%    2.140023e+07      -8.000000       3.000000       1.000000   \n",
       "50%    2.140045e+07       1.000000       5.000000       2.000000   \n",
       "75%    2.140067e+07       9.000000       9.000000       3.000000   \n",
       "max    2.140091e+07      53.000000      37.000000       7.000000   \n",
       "\n",
       "          SHOT_CLOCK       DRIBBLES     TOUCH_TIME      SHOT_DIST  \\\n",
       "count  122203.000000  122203.000000  122203.000000  122203.000000   \n",
       "mean       12.450301       1.994084       2.759785      13.449139   \n",
       "std         5.756509       3.413942       2.935379       8.776124   \n",
       "min         0.000000       0.000000       0.000000       0.000000   \n",
       "25%         8.200000       0.000000       0.900000       4.700000   \n",
       "50%        12.300000       1.000000       1.600000      13.400000   \n",
       "75%        16.600000       2.000000       3.700000      22.400000   \n",
       "max        24.000000      32.000000      24.900000      43.500000   \n",
       "\n",
       "            PTS_TYPE  CLOSEST_DEFENDER_PLAYER_ID  CLOSE_DEF_DIST  \\\n",
       "count  122203.000000               122203.000000   122203.000000   \n",
       "mean        2.258652               159126.039713        4.122839   \n",
       "std         0.437896                78685.768017        2.751535   \n",
       "min         2.000000                  708.000000        0.000000   \n",
       "25%         2.000000               200745.000000        2.300000   \n",
       "50%         2.000000               201949.000000        3.700000   \n",
       "75%         3.000000               203079.000000        5.300000   \n",
       "max         3.000000               530027.000000       53.200000   \n",
       "\n",
       "                 FGM            PTS      player_id  \n",
       "count  122203.000000  122203.000000  122203.000000  \n",
       "mean        0.456495       1.006260  157321.372192  \n",
       "std         0.498106       1.131276   79314.901366  \n",
       "min         0.000000       0.000000     708.000000  \n",
       "25%         0.000000       0.000000  101162.000000  \n",
       "50%         0.000000       0.000000  201939.000000  \n",
       "75%         1.000000       2.000000  202704.000000  \n",
       "max         1.000000       3.000000  204060.000000  "
      ]
     },
     "execution_count": 37,
     "metadata": {},
     "output_type": "execute_result"
    }
   ],
   "source": [
    "data.describe()"
   ]
  },
  {
   "cell_type": "markdown",
   "metadata": {},
   "source": [
    "# Data Exploration"
   ]
  },
  {
   "cell_type": "markdown",
   "metadata": {},
   "source": [
    "Because there were some NaN values in the dataset as well as negative values for the touch_time attribute (not possible to have the ball for a negative amount of time), we had to drop any entries with these characteristics before doing any kind of work on the data. \n",
    "\n",
    "There are 21 attributes in our dataset, both categorical and numerical. The 'pts', and 'fgm' features are redundant for us, because they are non-zero (in the case of 'pts') and increasing (in the case of 'fgm') for made shots and zero and non-inreasing otherwise, so they essentially describes the 'shot_result' attribute we chose to be our label.\n",
    "\n",
    "Additionally, there are a number of features such as 'player_id', 'player_name', 'closest_defender_player_id', 'closest_defender', 'location', and 'matchup' that seem like they might be valuable (i.e. some defenders are better and the resulting shot likelihood would be lower), but not valuable enough to enhance the accuracy of our classifier.\n",
    "\n",
    "There are also features that describe the context of the game the shot was taken in such as 'game_clock', 'period', 'final_margin', 'W', 'game_id', and 'shot_number' that are not pertinent to the specific shot we are trying to predict."
   ]
  },
  {
   "cell_type": "markdown",
   "metadata": {},
   "source": [
    "# Perform Feature Engineering"
   ]
  },
  {
   "cell_type": "code",
   "execution_count": 38,
   "metadata": {},
   "outputs": [],
   "source": [
    "# fr https://stackoverflow.com/questions/50308629/python-pandas-column-convert-minutes-to-second\n",
    "def timeToSeconds(x):\n",
    "    mins, secs = map(float, x.split(':'))\n",
    "    td = timedelta(minutes=mins, seconds=secs)\n",
    "    return td.total_seconds()"
   ]
  },
  {
   "cell_type": "code",
   "execution_count": 39,
   "metadata": {},
   "outputs": [],
   "source": [
    "# begin to separate the data into features and labels\n",
    "labels = data['SHOT_RESULT'].map(dict(made=1, missed=0))"
   ]
  },
  {
   "cell_type": "code",
   "execution_count": 49,
   "metadata": {},
   "outputs": [],
   "source": [
    "# Code from https://scikit-learn.org/stable/auto_examples/ensemble/plot_forest_importances.html#sphx-glr-auto-examples-ensemble-plot-forest-importances-py\n",
    "\n",
    "from sklearn.inspection import permutation_importance\n",
    "from sklearn.model_selection import train_test_split\n",
    "from sklearn.ensemble import RandomForestClassifier\n",
    "import time\n",
    "import matplotlib.pyplot as plt\n",
    "\n",
    "def plot_importance(features, labels):\n",
    "    x_train, x_test, y_train, y_test = train_test_split(features, labels, test_size=0.20)\n",
    "\n",
    "    forest = RandomForestClassifier()\n",
    "    forest = forest.fit(x_train, y_train)\n",
    "\n",
    "    start = time.time()\n",
    "    result = permutation_importance(forest, x_test, y_test, n_repeats=10)\n",
    "    print(\"Duration for forest importances:\", time.time() - start)\n",
    "\n",
    "    forest_importances = pd.Series(result.importances_mean, index=features.columns)\n",
    "\n",
    "    fig, ax = plt.subplots()\n",
    "    forest_importances.plot.bar(yerr=result.importances_std, ax=ax)\n",
    "    ax.set_title(\"Feature importances using permutation on full model\")\n",
    "    ax.set_ylabel(\"Mean accuracy decrease\")\n",
    "    fig.tight_layout()\n",
    "    plt.show()"
   ]
  },
  {
   "cell_type": "code",
   "execution_count": 50,
   "metadata": {},
   "outputs": [
    {
     "name": "stdout",
     "output_type": "stream",
     "text": [
      "Duration for forest importances: 24.1723690032959\n"
     ]
    },
    {
     "data": {
      "image/png": "[encoded data removed]",
      "text/plain": [
       "<Figure size 432x288 with 1 Axes>"
      ]
     },
     "metadata": {
      "needs_background": "light"
     },
     "output_type": "display_data"
    }
   ],
   "source": [
    "# Removed ID's and Game matchup string\n",
    "features = data.drop(['SHOT_RESULT', 'GAME_ID', 'MATCHUP', 'CLOSEST_DEFENDER', 'CLOSEST_DEFENDER_PLAYER_ID', 'player_name'], axis=1)\n",
    "features['GAME_CLOCK'] = data['GAME_CLOCK'].apply(timeToSeconds)\n",
    "features = pd.get_dummies(features)\n",
    "\n",
    "plot_importance(features, labels)"
   ]
  },
  {
   "cell_type": "code",
   "execution_count": 51,
   "metadata": {},
   "outputs": [
    {
     "name": "stdout",
     "output_type": "stream",
     "text": [
      "Duration for forest importances: 27.79062581062317\n"
     ]
    },
    {
     "data": {
      "image/png": "[encoded data removed]",
      "text/plain": [
       "<Figure size 432x288 with 1 Axes>"
      ]
     },
     "metadata": {
      "needs_background": "light"
     },
     "output_type": "display_data"
    }
   ],
   "source": [
    "# Remove PTS, it looks completely correlated\n",
    "features = data.drop(['PTS', 'SHOT_RESULT', 'GAME_ID', 'MATCHUP', 'CLOSEST_DEFENDER', 'CLOSEST_DEFENDER_PLAYER_ID', 'player_name'], axis=1)\n",
    "features['GAME_CLOCK'] = data['GAME_CLOCK'].apply(timeToSeconds)\n",
    "features = pd.get_dummies(features)\n",
    "\n",
    "\n",
    "plot_importance(features, labels)"
   ]
  },
  {
   "cell_type": "code",
   "execution_count": 52,
   "metadata": {},
   "outputs": [
    {
     "name": "stdout",
     "output_type": "stream",
     "text": [
      "Duration for forest importances: 119.80682444572449\n"
     ]
    },
    {
     "data": {
      "image/png": "[encoded data removed]",
      "text/plain": [
       "<Figure size 432x288 with 1 Axes>"
      ]
     },
     "metadata": {
      "needs_background": "light"
     },
     "output_type": "display_data"
    }
   ],
   "source": [
    "# Also remove FGM, it looks completely correlated\n",
    "features = data.drop(['FGM', 'PTS', 'SHOT_RESULT', 'GAME_ID', 'MATCHUP', 'CLOSEST_DEFENDER', 'CLOSEST_DEFENDER_PLAYER_ID', 'player_name'], axis=1)\n",
    "features['GAME_CLOCK'] = data['GAME_CLOCK'].apply(timeToSeconds)\n",
    "features = pd.get_dummies(features)\n",
    "\n",
    "\n",
    "plot_importance(features, labels)"
   ]
  },
  {
   "cell_type": "markdown",
   "metadata": {},
   "source": [
    "Our exploration of the data left us with six features that describe only the specific, relevant situation a shot was taken in:\n",
    "\n",
    "1.    shot_clock: The amount of time remaining in a possession. It figures that if there is only a small amount of time left, a player might rush to get a shot off.\n",
    "\n",
    "2.    touch_time: The amount of time the ball is in our specific shooter's posession. It seems that the longer the ball is in a player's possession, the less likely they are to score because they didn't have a clear shot when they recieved the ball.\n",
    "\n",
    "3.    dribbles: The amount of dribbles the player takes before shooting. Dribbling a lot might mean the player did not have a clear shot when he recieved the ball, resulting in a less likely shot.\n",
    "\n",
    "4.    pts_type: Whether the shot was a 2 or 3 point field goal. It figures that because 3-pointers are taken farther from the basket, they might be harder to score.\n",
    "\n",
    "5.    shot_dist: How far from the basket the shot was taken. The closer a player is to the basket, the easier it is to score.\n",
    "\n",
    "6.    close_def_dist: How far the closest defender is. The closer the nearest defender, the more contested and harder to make a shot becomes.\n",
    "\n",
    "Upon looking more closely at the data, we decided to eliminate 'dribbles' and 'shot_type' from our final features list. Dribbles is a noisier version of 'touch_time' - a player can hold the ball for 10 seconds and either dribble it 10 times or 0 times, so this is not too helpful. We also realized that 'pts_type' is a less descriptive feature than 'shot_dist'. While pts_type might be useful for calculating the expected number of points for a shot, it does not tell us much about whether a shot will be made. A long 2 point shot has a very similar likelihood of being scored as a 3 point shot taken close to the line. "
   ]
  },
  {
   "cell_type": "code",
   "execution_count": 42,
   "metadata": {},
   "outputs": [],
   "source": [
    "# desired_features = ['SHOT_CLOCK', 'DRIBBLES', 'TOUCH_TIME', 'SHOT_DIST', 'PTS_TYPE', 'CLOSE_DEF_DIST']"
   ]
  },
  {
   "cell_type": "code",
   "execution_count": 43,
   "metadata": {},
   "outputs": [],
   "source": [
    "desired_features = ['SHOT_CLOCK', 'TOUCH_TIME', 'SHOT_DIST', 'CLOSE_DEF_DIST']"
   ]
  },
  {
   "cell_type": "code",
   "execution_count": 44,
   "metadata": {},
   "outputs": [
    {
     "name": "stdout",
     "output_type": "stream",
     "text": [
      "(122203, 4)\n",
      "(122203, 4)\n"
     ]
    },
    {
     "data": {
      "text/html": [
       "<div>\n",
       "<style scoped>\n",
       "    .dataframe tbody tr th:only-of-type {\n",
       "        vertical-align: middle;\n",
       "    }\n",
       "\n",
       "    .dataframe tbody tr th {\n",
       "        vertical-align: top;\n",
       "    }\n",
       "\n",
       "    .dataframe thead th {\n",
       "        text-align: right;\n",
       "    }\n",
       "</style>\n",
       "<table border=\"1\" class=\"dataframe\">\n",
       "  <thead>\n",
       "    <tr style=\"text-align: right;\">\n",
       "      <th></th>\n",
       "      <th>SHOT_CLOCK</th>\n",
       "      <th>TOUCH_TIME</th>\n",
       "      <th>SHOT_DIST</th>\n",
       "      <th>CLOSE_DEF_DIST</th>\n",
       "    </tr>\n",
       "  </thead>\n",
       "  <tbody>\n",
       "    <tr>\n",
       "      <th>count</th>\n",
       "      <td>122203.000000</td>\n",
       "      <td>122203.000000</td>\n",
       "      <td>122203.000000</td>\n",
       "      <td>122203.000000</td>\n",
       "    </tr>\n",
       "    <tr>\n",
       "      <th>mean</th>\n",
       "      <td>12.450301</td>\n",
       "      <td>2.759785</td>\n",
       "      <td>13.449139</td>\n",
       "      <td>4.122839</td>\n",
       "    </tr>\n",
       "    <tr>\n",
       "      <th>std</th>\n",
       "      <td>5.756509</td>\n",
       "      <td>2.935379</td>\n",
       "      <td>8.776124</td>\n",
       "      <td>2.751535</td>\n",
       "    </tr>\n",
       "    <tr>\n",
       "      <th>min</th>\n",
       "      <td>0.000000</td>\n",
       "      <td>0.000000</td>\n",
       "      <td>0.000000</td>\n",
       "      <td>0.000000</td>\n",
       "    </tr>\n",
       "    <tr>\n",
       "      <th>25%</th>\n",
       "      <td>8.200000</td>\n",
       "      <td>0.900000</td>\n",
       "      <td>4.700000</td>\n",
       "      <td>2.300000</td>\n",
       "    </tr>\n",
       "    <tr>\n",
       "      <th>50%</th>\n",
       "      <td>12.300000</td>\n",
       "      <td>1.600000</td>\n",
       "      <td>13.400000</td>\n",
       "      <td>3.700000</td>\n",
       "    </tr>\n",
       "    <tr>\n",
       "      <th>75%</th>\n",
       "      <td>16.600000</td>\n",
       "      <td>3.700000</td>\n",
       "      <td>22.400000</td>\n",
       "      <td>5.300000</td>\n",
       "    </tr>\n",
       "    <tr>\n",
       "      <th>max</th>\n",
       "      <td>24.000000</td>\n",
       "      <td>24.900000</td>\n",
       "      <td>43.500000</td>\n",
       "      <td>53.200000</td>\n",
       "    </tr>\n",
       "  </tbody>\n",
       "</table>\n",
       "</div>"
      ],
      "text/plain": [
       "          SHOT_CLOCK     TOUCH_TIME      SHOT_DIST  CLOSE_DEF_DIST\n",
       "count  122203.000000  122203.000000  122203.000000   122203.000000\n",
       "mean       12.450301       2.759785      13.449139        4.122839\n",
       "std         5.756509       2.935379       8.776124        2.751535\n",
       "min         0.000000       0.000000       0.000000        0.000000\n",
       "25%         8.200000       0.900000       4.700000        2.300000\n",
       "50%        12.300000       1.600000      13.400000        3.700000\n",
       "75%        16.600000       3.700000      22.400000        5.300000\n",
       "max        24.000000      24.900000      43.500000       53.200000"
      ]
     },
     "execution_count": 44,
     "metadata": {},
     "output_type": "execute_result"
    }
   ],
   "source": [
    "# feature_data = data.drop(drop_features, axis=1)\n",
    "feature_data = data.loc[:, desired_features]\n",
    "\n",
    "# One hot encodes any remaining categorical variables (like Location or W)\n",
    "feature_data = pd.get_dummies(feature_data)\n",
    "\n",
    "feature_data.head()\n",
    "feature_data.describe()"
   ]
  },
  {
   "cell_type": "markdown",
   "metadata": {},
   "source": [
    "# === Models ==="
   ]
  },
  {
   "cell_type": "code",
   "execution_count": 45,
   "metadata": {},
   "outputs": [],
   "source": [
    "import sklearn as sk\n",
    "\n",
    "# Tools\n",
    "from sklearn.model_selection import GridSearchCV\n",
    "from sklearn.model_selection import cross_val_score\n",
    "from sklearn.model_selection import cross_val_predict\n",
    "from sklearn.pipeline import Pipeline\n",
    "\n",
    "# Models\n",
    "from sklearn.tree import DecisionTreeClassifier\n",
    "from sklearn.neighbors import KNeighborsClassifier\n",
    "from sklearn.naive_bayes import GaussianNB\n",
    "from sklearn.svm import SVC\n",
    "from sklearn.neural_network import MLPClassifier\n",
    "from sklearn.ensemble import RandomForestClassifier\n",
    "\n",
    "# Parallelism\n",
    "from sklearn.utils import parallel_backend\n"
   ]
  },
  {
   "cell_type": "markdown",
   "metadata": {},
   "source": [
    "## Decision Tree"
   ]
  },
  {
   "cell_type": "code",
   "execution_count": 46,
   "metadata": {},
   "outputs": [
    {
     "name": "stdout",
     "output_type": "stream",
     "text": [
      "Accuracy on test data using Gini as split criterion is: 0.5376212102614459\n",
      "\n",
      "Accuracy on test data with max tree depth 4 is: 0.6138046724765762\n",
      "\n",
      "Accuracy on test data with max tree minimum sample split 5 is: 0.5463360746286977\n"
     ]
    }
   ],
   "source": [
    "# Essentially a playground for trying different parameters of decision trees\n",
    "# These should probably be run with the cross validation of the cell below tbh, but these are just examples\n",
    "train_features, test_features, train_labels, test_labels = sk.model_selection.train_test_split(feature_data, labels, test_size=0.20)\n",
    "\n",
    "# use gini\n",
    "classifier = DecisionTreeClassifier(criterion='gini')\n",
    "classifier = classifier.fit(train_features, train_labels)\n",
    "predictions = classifier.predict(test_features)\n",
    "print('Accuracy on test data using Gini as split criterion is:', (sk.metrics.accuracy_score(test_labels, predictions)))\n",
    "print()\n",
    "\n",
    "# max depth\n",
    "depth=4\n",
    "classifier = DecisionTreeClassifier(criterion='entropy', max_depth=depth)\n",
    "classifier = classifier.fit(train_features, train_labels)\n",
    "predictions = classifier.predict(test_features)\n",
    "print('Accuracy on test data with max tree depth', depth, 'is:', (sk.metrics.accuracy_score(test_labels, predictions)))\n",
    "print()\n",
    "\n",
    "# minimum samples in a split set to 5\n",
    "classifier = DecisionTreeClassifier(criterion='entropy', min_samples_split=5)\n",
    "classifier = classifier.fit(train_features, train_labels)\n",
    "predictions = classifier.predict(test_features)\n",
    "print('Accuracy on test data with max tree minimum sample split 5 is:', (sk.metrics.accuracy_score(test_labels, predictions)))"
   ]
  },
  {
   "cell_type": "code",
   "execution_count": 47,
   "metadata": {},
   "outputs": [
    {
     "name": "stdout",
     "output_type": "stream",
     "text": [
      "Average Accuracy: 61.03450739551093\n"
     ]
    }
   ],
   "source": [
    "# Run cross validation with chosen hyperparameters\n",
    "\n",
    "classifier = DecisionTreeClassifier(criterion='entropy', max_depth=10)\n",
    "with parallel_backend('loky'):\n",
    "    scores = cross_val_score(classifier, feature_data, labels, cv=5)\n",
    "                                           \n",
    "print(\"Average Accuracy:\", scores.mean()*100)"
   ]
  },
  {
   "cell_type": "code",
   "execution_count": 14,
   "metadata": {},
   "outputs": [
    {
     "name": "stdout",
     "output_type": "stream",
     "text": [
      "{'max_depth': 5, 'max_features': 6, 'min_samples_leaf': 10}\n",
      "Average Accuracy: 61.434910228570416\n"
     ]
    }
   ],
   "source": [
    "# Inner loop of nested cross validation - determine what are likely the best hyperparams\n",
    "\n",
    "classifier = DecisionTreeClassifier()\n",
    "params = {\"max_depth\": [5, 10, 15, 20],\n",
    "          \"min_samples_leaf\": [5, 10, 15, 20],\n",
    "          \"max_features\": [3, 4, 5, 6]}\n",
    "\n",
    "grid_search = GridSearchCV(classifier, params, cv=5, scoring='accuracy')\n",
    "with parallel_backend('loky'):\n",
    "    grid_search.fit(feature_data, labels)\n",
    "\n",
    "print(grid_search.best_params_)\n",
    "print(\"Average Accuracy:\", grid_search.best_score_*100)"
   ]
  },
  {
   "cell_type": "code",
   "execution_count": 15,
   "metadata": {},
   "outputs": [
    {
     "name": "stdout",
     "output_type": "stream",
     "text": [
      "{'max_depth': 5, 'max_features': 6, 'min_samples_leaf': 10}\n",
      "Average Accuracy: 61.446333110666515\n"
     ]
    }
   ],
   "source": [
    "# The Real Deal: Nested Cross Validation\n",
    "\n",
    "with parallel_backend('loky'):\n",
    "    scores = cross_val_score(grid_search, feature_data, labels, cv=10) \n",
    "\n",
    "print(grid_search.best_params_)\n",
    "print(\"Average Accuracy:\", scores.mean()*100)"
   ]
  },
  {
   "cell_type": "markdown",
   "metadata": {},
   "source": [
    "## K Nearest Neighbors\n",
    "\n",
    "Here we will explore the K nearest neighbors technique. This method is used to determine association based on the K nearest neighbors surrounding a data point. Based on this association, the prediction can be made based on classification of its neighbors."
   ]
  },
  {
   "cell_type": "code",
   "execution_count": 13,
   "metadata": {},
   "outputs": [
    {
     "name": "stdout",
     "output_type": "stream",
     "text": [
      "Accuracies:  61.15817989936271\n"
     ]
    }
   ],
   "source": [
    "scaler = sk.preprocessing.StandardScaler()\n",
    "PCA = sk.decomposition.PCA()\n",
    "knn = sk.neighbors.KNeighborsClassifier(n_neighbors=100)\n",
    "pipe = Pipeline([('scaler' , scaler ), ('pca', PCA), ('knn', knn) ] )\n",
    "\n",
    "with parallel_backend('loky'):\n",
    "    accuracies = cross_val_score( pipe, feature_data, labels, cv=5)\n",
    "    \n",
    "print(\"Accuracies: \", accuracies.mean()*100)"
   ]
  },
  {
   "cell_type": "code",
   "execution_count": 14,
   "metadata": {},
   "outputs": [
    {
     "name": "stdout",
     "output_type": "stream",
     "text": [
      "{'knn__n_neighbors': 110}\n",
      "0.611753229564141\n"
     ]
    }
   ],
   "source": [
    "param_grid = {\n",
    "    #'pca__n_components': list(range(5, 10)),\n",
    "    'knn__n_neighbors': list(range(80, 120, 5))\n",
    "}\n",
    "gs = GridSearchCV(pipe, param_grid, cv=5, scoring='accuracy')\n",
    "\n",
    "with parallel_backend('loky'):\n",
    "    gs.fit(feature_data, labels)\n",
    "\n",
    "print(gs.best_params_)\n",
    "print(gs.best_score_)"
   ]
  },
  {
   "cell_type": "code",
   "execution_count": 25,
   "metadata": {},
   "outputs": [
    {
     "name": "stdout",
     "output_type": "stream",
     "text": [
      "Accuracies:  58.028437356576035\n"
     ]
    }
   ],
   "source": [
    "with parallel_backend('loky'):\n",
    "    accuracies = cross_val_score( gs, feature_data, labels, cv=5)\n",
    "print(\"Accuracies: \", accuracies.mean()*100)"
   ]
  },
  {
   "cell_type": "markdown",
   "metadata": {},
   "source": [
    "## Naive Bayes"
   ]
  },
  {
   "cell_type": "code",
   "execution_count": 26,
   "metadata": {},
   "outputs": [
    {
     "name": "stdout",
     "output_type": "stream",
     "text": [
      "duration = 0.3098483085632324\n",
      "Average Accuracy: 57.91334005220732\n"
     ]
    }
   ],
   "source": [
    "# From the HW\n",
    "classifier = GaussianNB()\n",
    "\n",
    "# Cross validation accuracy\n",
    "scores = cross_val_score(classifier, feature_data, labels, cv=10) \n",
    "print(\"Average Accuracy:\", scores.mean()*100)"
   ]
  },
  {
   "cell_type": "code",
   "execution_count": 28,
   "metadata": {},
   "outputs": [
    {
     "name": "stdout",
     "output_type": "stream",
     "text": [
      "duration = 0.3035438060760498\n",
      "              precision    recall  f1-score   support\n",
      "\n",
      "           0       0.62      0.59      0.60     66622\n",
      "           1       0.54      0.57      0.55     55880\n",
      "\n",
      "    accuracy                           0.58    122502\n",
      "   macro avg       0.58      0.58      0.58    122502\n",
      "weighted avg       0.58      0.58      0.58    122502\n",
      "\n"
     ]
    }
   ],
   "source": [
    "# Cross validation accuracy + other metrics\n",
    "predictions = cross_val_predict(classifier, feature_data, labels, cv=10)\n",
    "\n",
    "matrix = sk.metrics.confusion_matrix(labels, predictions)\n",
    "report = sk.metrics.classification_report(labels, predictions)\n",
    "print(report)"
   ]
  },
  {
   "cell_type": "markdown",
   "metadata": {},
   "source": [
    "## SVM"
   ]
  },
  {
   "cell_type": "code",
   "execution_count": null,
   "metadata": {},
   "outputs": [],
   "source": [
    "scaler = sk.preprocessing.StandardScaler()\n",
    "pca = sk.decomposition.PCA()\n",
    "svc = SVC()\n",
    "pipeline = Pipeline(steps=[('scaler', scaler), ('PCA', pca), ('SVC', svc)])\n",
    "\n",
    "param_grid = {\n",
    "    'PCA__n_components': list(range(2, 4)),\n",
    "    'SVC__kernel': ['linear', 'rbf', 'poly']\n",
    "}\n",
    "\n",
    "grid_search = GridSearchCV(pipeline, param_grid, cv=5)\n",
    "\n",
    "with parallel_backend('loky'):\n",
    "    predictions = cross_val_predict(grid_search, feature_data, labels, cv=10)\n",
    "\n",
    "avg_accuracy = sk.metrics.accuracy_score(labels, predictions)\n",
    "print(\"Average Accuracy:\", avg_accuracy*100)\n",
    "report = sk.metrics.classification_report(labels, predictions)\n",
    "print(report)"
   ]
  },
  {
   "cell_type": "markdown",
   "metadata": {},
   "source": [
    "## Neural Network"
   ]
  },
  {
   "cell_type": "code",
   "execution_count": 18,
   "metadata": {},
   "outputs": [
    {
     "name": "stdout",
     "output_type": "stream",
     "text": [
      "{'NN__activation': 'relu', 'NN__hidden_layer_sizes': (64,), 'PCA__n_components': 4}\n",
      "0.6163409027036797\n"
     ]
    }
   ],
   "source": [
    "scaler = sk.preprocessing.StandardScaler()\n",
    "pca = sk.decomposition.PCA()\n",
    "nn = MLPClassifier()\n",
    "pipeline = Pipeline(steps=[('scaler', scaler), ('PCA', pca), ('NN', nn)])\n",
    "\n",
    "param_grid = {\n",
    "    'PCA__n_components': list(range(2, 6)),\n",
    "    'NN__hidden_layer_sizes': [(8, ), (16, ), (32, ), (64, )],\n",
    "    'NN__activation': ['logistic', 'tanh', 'relu']\n",
    "}\n",
    "\n",
    "grid_search = GridSearchCV(pipeline, param_grid, cv=5)\n",
    "with parallel_backend('loky'):\n",
    "    grid_search.fit(feature_data, labels)\n",
    "\n",
    "print(grid_search.best_params_)\n",
    "print(\"Best Accuracy:\", grid_search.best_score_)"
   ]
  },
  {
   "cell_type": "code",
   "execution_count": null,
   "metadata": {},
   "outputs": [],
   "source": [
    "with parallel_backend('loky'):\n",
    "    predictions = cross_val_predict(grid_search, feature_data, labels, cv=5)\n",
    "\n",
    "avg_accuracy = sk.metrics.accuracy_score(labels, predictions)\n",
    "print(\"Average Accuracy:\", avg_accuracy*100)\n",
    "report = sk.metrics.classification_report(labels, predictions)\n",
    "print(report)"
   ]
  },
  {
   "cell_type": "markdown",
   "metadata": {},
   "source": [
    "## Random Forest"
   ]
  },
  {
   "cell_type": "code",
   "execution_count": null,
   "metadata": {},
   "outputs": [],
   "source": [
    "classifier = RandomForestClassifier()\n",
    "\n",
    "# Find the best hyperparamters for random forest\n",
    "param_grid = {\n",
    "    'criterion' : ['gini', 'entropy'],\n",
    "    'n_estimators' : [50, 100, 150, 200, 250, 300],\n",
    "    'min_samples_split' : [2, 3, 4, 5, 6],\n",
    "    'bootstrap' : [True, False]\n",
    "}\n",
    "\n",
    "# Train and test data\n",
    "grid_search = GridSearchCV(classifier, param_grid, cv=5, scoring='accuracy')\n",
    "\n",
    "with parallel_backend('loky'):\n",
    "    grid_search.fit(feature_data, labels)\n",
    "    \n",
    "# print best parameters\n",
    "print(grid_search.best_params_)\n",
    "\n",
    "with parallel_backend('loky'):\n",
    "    predictions = cross_val_predict(grid_search, feature_data, labels, cv=5)\n",
    "\n",
    "# print results\n",
    "avg_accuracy = sk.metrics.accuracy_score(labels, predictions)\n",
    "print(\"Average Accuracy:\", avg_accuracy*100)\n",
    "report = sk.metrics.classification_report(labels, predictions)\n",
    "print(report)"
   ]
  },
  {
   "cell_type": "markdown",
   "metadata": {},
   "source": [
    "# Final Thoughts and Conclusion"
   ]
  },
  {
   "cell_type": "markdown",
   "metadata": {},
   "source": [
    "The highest accuracy we were able to acheive is around 61% with cross-validated decision trees and KNN as well as a trained neural network. \n",
    "\n",
    "Accuracies for each model are as follows:\n",
    "Decision Tree with CV: 61.4% \n",
    "KNN with CV: 61.2%\n",
    "Naive Bayes with CV:  57.9%\n",
    "Neural Network: 61.6%\n",
    "\n",
    "Our SVM and Random Forest models took too long to train (15+ minutes), and the results from training them without cross validation were not as accurate as other classification methods, so we decided to move on from those methods.\n",
    "\n",
    "Classifying based on the most common label class (miss) would yield ~55% accuracy, so our model was a 6% improvement from a completely naive approach. While our classifier is not extremely accurate, it is still a useful way to understand the likelihood of scoring a shot. \n",
    "\n",
    "If we were to continue working on this project, we would likely look into more feature engineering to improve our models. One approach we considered was using 'player_name' in our models, as there are likely certain players better suited to making certain shots. Additionally, combining certain features into a single feature might also be useful. For instance, combining 'dribbles' and 'touch_time' might give us a more descriptive feature than each individually.  \n",
    "\n",
    "It was interesting to work on a real-world dataset like this one. While we started with 21 columns in the CSV, only 4 proved to be useful. This goes to show that many data science projects depend more so on feature engineering and data cleaning than training models. "
   ]
  }
 ],
 "metadata": {
  "interpreter": {
   "hash": "102d4fce1327120b51b2a6e13888fc695aa592a82a8d211fe3d49cced840841d"
  },
  "kernelspec": {
   "display_name": "Python 3",
   "language": "python",
   "name": "python3"
  },
  "language_info": {
   "codemirror_mode": {
    "name": "ipython",
    "version": 3
   },
   "file_extension": ".py",
   "mimetype": "text/x-python",
   "name": "python",
   "nbconvert_exporter": "python",
   "pygments_lexer": "ipython3",
   "version": "3.8.5"
  }
 },
 "nbformat": 4,
 "nbformat_minor": 2
}
